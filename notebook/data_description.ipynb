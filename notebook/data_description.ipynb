{
 "cells": [
  {
   "cell_type": "markdown",
   "metadata": {},
   "source": [
    "### Section #1: Introduction"
   ]
  },
  {
   "cell_type": "markdown",
   "metadata": {},
   "source": [
    "For checkpoint 2, we build an input library that collects the data for battery use. We basically use the function GetSystemPowerStatus  in winbase.h. Specifically, our IL include 6 inputs:"
   ]
  },
  {
   "cell_type": "markdown",
   "metadata": {},
   "source": [
    "#### AC\n",
    "The AC power status.\n",
    "#### Battery LifeTime\n",
    "The number of seconds of battery life remaining, or –1 if remaining seconds are unknown or if the device is connected to AC power.\n",
    "#### Battery Full LifeTime\n",
    "The number of seconds of battery life when at full charge, or –1 if full battery lifetime is unknown or if the device is connected to AC power.\n",
    "#### Battery Flag\n",
    "The battery charge status. \n",
    "#### Status\n",
    "The status of battery saver.\n",
    "#### Battery Life Percent\n",
    "The percentage of full battery charge remaining. This member can be a value in the range 0 to 100, or 255 if status is unknown.\n"
   ]
  },
  {
   "cell_type": "markdown",
   "metadata": {},
   "source": [
    "### Section #2: The Goals of Analysis\n",
    "By collecting the data by our IL, we are interested in these topics:\n"
   ]
  },
  {
   "cell_type": "markdown",
   "metadata": {},
   "source": [
    "How does the change in battery status affect the decreasing rate of battery life time?\n",
    "Related inputs: \n",
    "Battery Flag, \n",
    "Battery Life Percent, \n",
    "AC\n"
   ]
  },
  {
   "cell_type": "markdown",
   "metadata": {},
   "source": [
    "How does the battery saver save battery life time ?\n",
    "Related inputs:\n",
    "Status, \n",
    "Battery Life Percent, \n",
    "AC\n"
   ]
  },
  {
   "cell_type": "markdown",
   "metadata": {},
   "source": [
    "If the battery is charging, the battery life should increase. How does the battery saver affect this process？Does the charging speed become faster? \n",
    "Related inputs:\n",
    "Status, \n",
    "AC, \n",
    "Battery Life Percent, \n",
    "Battery Flag\n"
   ]
  },
  {
   "cell_type": "markdown",
   "metadata": {},
   "source": [
    "### Section #3: Other features"
   ]
  },
  {
   "cell_type": "markdown",
   "metadata": {},
   "source": [
    "At first, we also plan to include device use (GUID, device name, etc), but the result is not correct. Specifically, we used SetupDiGetClassDevs() to get the GUID, and use GUID.data4 to get its string. However, in the result db file, the data shows like “*******” which is not meaningful. As we have limited time for checkpoint2, we decided to include only battery-related inputs. But we will keep developing our IL and add more features (GUID, device name, device IO control, etc) to it."
   ]
  },
  {
   "cell_type": "code",
   "execution_count": null,
   "metadata": {},
   "outputs": [],
   "source": []
  }
 ],
 "metadata": {
  "kernelspec": {
   "display_name": "Python 3",
   "language": "python",
   "name": "python3"
  },
  "language_info": {
   "codemirror_mode": {
    "name": "ipython",
    "version": 3
   },
   "file_extension": ".py",
   "mimetype": "text/x-python",
   "name": "python",
   "nbconvert_exporter": "python",
   "pygments_lexer": "ipython3",
   "version": "3.6.2"
  }
 },
 "nbformat": 4,
 "nbformat_minor": 4
}
